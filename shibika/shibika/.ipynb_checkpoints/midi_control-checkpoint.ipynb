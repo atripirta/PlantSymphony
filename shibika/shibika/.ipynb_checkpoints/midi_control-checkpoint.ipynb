{
 "cells": [
  {
   "cell_type": "code",
   "execution_count": 42,
   "metadata": {},
   "outputs": [],
   "source": [
    "    import time\n",
    "    import rtmidi\n",
    "    \n",
    "    # Create a MIDI output port\n",
    "    midi_out = rtmidi.MidiOut()\n",
    "    midi_out.open_port(1)  # Adjust the port number as needed\n",
    "    \n",
    "    \n",
    "    # Send a note-on message (note 60, velocity 100)\n",
    "    note_on = [0x90, 60, 30]\n",
    "    midi_out.send_message(note_on)\n",
    "    \n",
    "    note_on = [0x90, 63, 30]\n",
    "    midi_out.send_message(note_on)\n",
    "    \n",
    "    # Sleep for 1 second\n",
    "    time.sleep(1)\n",
    "    \n",
    "    # Send a note-off message (note 60, velocity 0)\n",
    "    note_off = [0x80, 60, 0]\n",
    "    midi_out.send_message(note_off)\n",
    "    note_on = [0x90, 63, 0]\n",
    "    midi_out.send_message(note_on)\n",
    "    \n",
    "    # Close the MIDI output port\n",
    "    del midi_out\n"
   ]
  },
  {
   "cell_type": "code",
   "execution_count": 81,
   "metadata": {},
   "outputs": [],
   "source": [
    "import time\n",
    "import rtmidi\n",
    "import numpy as np\n",
    "def send_midi_notes(note_velocities, duration=1, port_number=1):\n",
    "    \"\"\"\n",
    "    Send MIDI note-on messages followed by note-off messages after a specified duration.\n",
    "\n",
    "    Parameters:\n",
    "        note_velocities (list of tuples): List of tuples containing (note_number, velocity) pairs.\n",
    "        duration (float): Duration in seconds to hold the notes before sending the note-off messages.\n",
    "        port_number (int): Index of the MIDI output port to use.\n",
    "    \"\"\"\n",
    "    # Create a MIDI output port\n",
    "    midi_out = rtmidi.MidiOut()\n",
    "    midi_out.open_port(port_number)  # Adjust the port number as needed\n",
    "\n",
    "    # Calculate the note-off timestamp\n",
    "    note_off_timestamp = time.time() + duration\n",
    "\n",
    "    try:\n",
    "        # Send note-on messages\n",
    "        for note, velocity in note_velocities:\n",
    "            note_on = [0x90, note, velocity]\n",
    "            midi_out.send_message(note_on)\n",
    "\n",
    "        # Sleep until the note-off timestamp\n",
    "        while time.time() < note_off_timestamp:\n",
    "            time.sleep(0.01)\n",
    "\n",
    "        # Send note-off messages\n",
    "        for note, _ in note_velocities:\n",
    "            note_off = [0x80, note, 0]\n",
    "            midi_out.send_message(note_off)\n",
    "    finally:\n",
    "        # Close the MIDI output port\n",
    "        del midi_out\n",
    "\n",
    "for i in range(10):\n",
    "    send_midi_notes([np.random.randint(40, 90, 2)], duration=np.random.randint(1,5,1))\n"
   ]
  },
  {
   "cell_type": "code",
   "execution_count": 74,
   "metadata": {},
   "outputs": [
    {
     "data": {
      "text/plain": [
       "array([3])"
      ]
     },
     "execution_count": 74,
     "metadata": {},
     "output_type": "execute_result"
    }
   ],
   "source": [
    "duration = np.random.randint(1,5,1)\n",
    "duration"
   ]
  },
  {
   "cell_type": "code",
   "execution_count": 92,
   "metadata": {
    "jp-MarkdownHeadingCollapsed": true
   },
   "outputs": [
    {
     "name": "stdin",
     "output_type": "stream",
     "text": [
      "Enter 0 to switch to C major scale (slow tempo), 1 to switch to C minor scale (fast tempo), or any other key to continue:  0\n",
      "Enter 0 to switch to C major scale (slow tempo), 1 to switch to C minor scale (fast tempo), or any other key to continue:  1\n",
      "Enter 0 to switch to C major scale (slow tempo), 1 to switch to C minor scale (fast tempo), or any other key to continue:  1\n",
      "Enter 0 to switch to C major scale (slow tempo), 1 to switch to C minor scale (fast tempo), or any other key to continue:  1\n",
      "Enter 0 to switch to C major scale (slow tempo), 1 to switch to C minor scale (fast tempo), or any other key to continue:  1\n",
      "Enter 0 to switch to C major scale (slow tempo), 1 to switch to C minor scale (fast tempo), or any other key to continue:  1\n",
      "Enter 0 to switch to C major scale (slow tempo), 1 to switch to C minor scale (fast tempo), or any other key to continue:  0\n"
     ]
    },
    {
     "ename": "KeyboardInterrupt",
     "evalue": "",
     "output_type": "error",
     "traceback": [
      "\u001b[0;31m---------------------------------------------------------------------------\u001b[0m",
      "\u001b[0;31mKeyboardInterrupt\u001b[0m                         Traceback (most recent call last)",
      "Cell \u001b[0;32mIn[92], line 60\u001b[0m\n\u001b[1;32m     58\u001b[0m notes \u001b[38;5;241m=\u001b[39m [(np\u001b[38;5;241m.\u001b[39mrandom\u001b[38;5;241m.\u001b[39mrandint(\u001b[38;5;241m0\u001b[39m, \u001b[38;5;28mlen\u001b[39m(C_MAJOR_SCALE)), np\u001b[38;5;241m.\u001b[39mrandom\u001b[38;5;241m.\u001b[39mrandint(\u001b[38;5;241m40\u001b[39m, \u001b[38;5;241m90\u001b[39m))]\n\u001b[1;32m     59\u001b[0m duration \u001b[38;5;241m=\u001b[39m np\u001b[38;5;241m.\u001b[39mrandom\u001b[38;5;241m.\u001b[39mrandint(\u001b[38;5;241m*\u001b[39mtempo_range)  \u001b[38;5;66;03m# Adjust duration based on tempo\u001b[39;00m\n\u001b[0;32m---> 60\u001b[0m \u001b[43msend_midi_notes\u001b[49m\u001b[43m(\u001b[49m\u001b[43mnotes\u001b[49m\u001b[43m,\u001b[49m\u001b[43m \u001b[49m\u001b[43mduration\u001b[49m\u001b[38;5;241;43m=\u001b[39;49m\u001b[43mduration\u001b[49m\u001b[43m,\u001b[49m\u001b[43m \u001b[49m\u001b[43mis_minor\u001b[49m\u001b[38;5;241;43m=\u001b[39;49m\u001b[43mis_minor\u001b[49m\u001b[43m \u001b[49m\u001b[38;5;28;43;01mif\u001b[39;49;00m\u001b[43m \u001b[49m\u001b[43muser_input\u001b[49m\u001b[43m \u001b[49m\u001b[38;5;129;43;01min\u001b[39;49;00m\u001b[43m \u001b[49m\u001b[43m(\u001b[49m\u001b[38;5;124;43m'\u001b[39;49m\u001b[38;5;124;43m0\u001b[39;49m\u001b[38;5;124;43m'\u001b[39;49m\u001b[43m,\u001b[49m\u001b[43m \u001b[49m\u001b[38;5;124;43m'\u001b[39;49m\u001b[38;5;124;43m1\u001b[39;49m\u001b[38;5;124;43m'\u001b[39;49m\u001b[43m)\u001b[49m\u001b[43m \u001b[49m\u001b[38;5;28;43;01melse\u001b[39;49;00m\u001b[43m \u001b[49m\u001b[38;5;28;43;01mFalse\u001b[39;49;00m\u001b[43m)\u001b[49m\n",
      "Cell \u001b[0;32mIn[92], line 39\u001b[0m, in \u001b[0;36msend_midi_notes\u001b[0;34m(note_velocities, duration, port_number, is_minor)\u001b[0m\n\u001b[1;32m     37\u001b[0m \u001b[38;5;66;03m# Sleep until the note-off timestamp\u001b[39;00m\n\u001b[1;32m     38\u001b[0m \u001b[38;5;28;01mwhile\u001b[39;00m time\u001b[38;5;241m.\u001b[39mtime() \u001b[38;5;241m<\u001b[39m note_off_timestamp:\n\u001b[0;32m---> 39\u001b[0m     \u001b[43mtime\u001b[49m\u001b[38;5;241;43m.\u001b[39;49m\u001b[43msleep\u001b[49m\u001b[43m(\u001b[49m\u001b[38;5;241;43m0.01\u001b[39;49m\u001b[43m)\u001b[49m\n\u001b[1;32m     41\u001b[0m \u001b[38;5;66;03m# Send note-off messages\u001b[39;00m\n\u001b[1;32m     42\u001b[0m \u001b[38;5;28;01mfor\u001b[39;00m note, _ \u001b[38;5;129;01min\u001b[39;00m note_velocities:\n",
      "\u001b[0;31mKeyboardInterrupt\u001b[0m: "
     ]
    }
   ],
   "source": [
    "## import time\n",
    "import rtmidi\n",
    "import numpy as np\n",
    "\n",
    "# Define MIDI notes for C major scale\n",
    "C_MAJOR_SCALE = [60, 62, 64, 65, 67, 69, 71, 72]\n",
    "\n",
    "# Define MIDI notes for C minor scale\n",
    "C_MINOR_SCALE = [60, 62, 63, 65, 67, 68, 70, 72]\n",
    "\n",
    "def send_midi_notes(note_velocities, duration=1, port_number=1, is_minor=False):\n",
    "    \"\"\"\n",
    "    Send MIDI note-on messages followed by note-off messages after a specified duration.\n",
    "\n",
    "    Parameters:\n",
    "        note_velocities (list of tuples): List of tuples containing (note_number, velocity) pairs.\n",
    "        duration (0float): Duration in seconds to hold the notes before sending the note-off messages.\n",
    "        port_number (int): Index of the MIDI output port to use.\n",
    "        is_minor (bool): Flag indicating whether to use the C minor scale.\n",
    "    \"\"\"\n",
    "    # Choose the scale\n",
    "    scale = C_MINOR_SCALE if is_minor else C_MAJOR_SCALE\n",
    "\n",
    "    # Create a MIDI output port\n",
    "    midi_out = rtmidi.MidiOut()\n",
    "    midi_out.open_port(port_number)  # Adjust the port number as needed\n",
    "\n",
    "    # Calculate the note-off timestamp\n",
    "    note_off_timestamp = time.time() + duration\n",
    "\n",
    "    try:\n",
    "        # Send note-on messages\n",
    "        for note, velocity in note_velocities:\n",
    "            note_on = [0x90, scale[note % len(scale)], velocity]\n",
    "            midi_out.send_message(note_on)\n",
    "\n",
    "        # Sleep until the note-off timestamp\n",
    "        while time.time() < note_off_timestamp:\n",
    "            time.sleep(0.01)\n",
    "\n",
    "        # Send note-off messages\n",
    "        for note, _ in note_velocities:\n",
    "            note_off = [0x80, scale[note % len(scale)], 0]\n",
    "            midi_out.send_message(note_off)\n",
    "    finally:\n",
    "        # Close the MIDI output port\n",
    "        del midi_out\n",
    "\n",
    "# Example usage:\n",
    "while True:\n",
    "    user_input = input(\"Enter 0 to switch to C major scale (slow tempo), 1 to switch to C minor scale (fast tempo), or any other key to continue: \")\n",
    "    is_minor = user_input == '1'\n",
    "    \n",
    "    tempo_range = (1, 3) if is_minor else (4, 6)  # Adjust tempo based on scale\n",
    "\n",
    "    for _ in range(4):\n",
    "        # Generate random notes within the range of C major or C minor scale\n",
    "        notes = [(np.random.randint(0, len(C_MAJOR_SCALE)), np.random.randint(40, 90))]\n",
    "        duration = np.random.randint(*tempo_range)  # Adjust duration based on tempo\n",
    "        send_midi_notes(notes, duration=duration, is_minor=is_minor if user_input in ('0', '1') else False)\n"
   ]
  },
  {
   "cell_type": "code",
   "execution_count": null,
   "metadata": {},
   "outputs": [],
   "source": []
  }
 ],
 "metadata": {
  "kernelspec": {
   "display_name": "mirenv",
   "language": "python",
   "name": "mirenv"
  },
  "language_info": {
   "codemirror_mode": {
    "name": "ipython",
    "version": 3
   },
   "file_extension": ".py",
   "mimetype": "text/x-python",
   "name": "python",
   "nbconvert_exporter": "python",
   "pygments_lexer": "ipython3",
   "version": "3.12.1"
  },
  "widgets": {
   "application/vnd.jupyter.widget-state+json": {
    "state": {},
    "version_major": 2,
    "version_minor": 0
   }
  }
 },
 "nbformat": 4,
 "nbformat_minor": 4
}
