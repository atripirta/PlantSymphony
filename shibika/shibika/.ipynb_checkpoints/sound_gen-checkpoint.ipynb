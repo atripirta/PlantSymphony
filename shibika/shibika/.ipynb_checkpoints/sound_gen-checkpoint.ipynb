{
 "cells": [
  {
   "cell_type": "code",
   "execution_count": null,
   "metadata": {},
   "outputs": [],
   "source": []
  },
  {
   "cell_type": "code",
   "execution_count": 9,
   "metadata": {},
   "outputs": [],
   "source": [
    "import numpy as np\n",
    "import sounddevice as sd\n",
    "\n",
    "def generate_aesthetic_sound(parameter):\n",
    "    duration = 3  # Duration of the sound in seconds\n",
    "    sample_rate = 44100  # Sampling rate in Hz\n",
    "    \n",
    "    # Define the time array\n",
    "    t = np.linspace(0, duration, int(sample_rate * duration))\n",
    "    \n",
    "    # Linearly increasing frequency based on the parameter\n",
    "    frequency = 100 + parameter * 200  # Adjust as needed\n",
    "    \n",
    "    # Generate the sine wave sound\n",
    "    sound = np.sin(2 * np.pi * frequency * t)\n",
    "    \n",
    "    return sound, sample_rate\n",
    "\n",
    "def play_sound(sound, sample_rate):\n",
    "    sd.play(sound, sample_rate)\n",
    "    sd.wait()\n",
    "\n",
    "# Example usage:\n",
    "parameter = float(input(\"Enter the parameter (between 0 and 1): \"))\n",
    "\n",
    "if 0 <= parameter <= 1:\n",
    "    sound, sample_rate = generate_aesthetic_sound(parameter)\n",
    "    play_sound(sound, sample_rate)\n",
    "else:\n",
    "    print(\"Parameter should be between 0 and 1.\")"
   ]
  },
  {
   "cell_type": "code",
   "execution_count": null,
   "metadata": {},
   "outputs": [],
   "source": []
  }
 ],
 "metadata": {
  "kernelspec": {
   "display_name": "mirenv",
   "language": "python",
   "name": "mirenv"
  },
  "language_info": {
   "codemirror_mode": {
    "name": "ipython",
    "version": 3
   },
   "file_extension": ".py",
   "mimetype": "text/x-python",
   "name": "python",
   "nbconvert_exporter": "python",
   "pygments_lexer": "ipython3",
   "version": "3.12.1"
  }
 },
 "nbformat": 4,
 "nbformat_minor": 2
}
